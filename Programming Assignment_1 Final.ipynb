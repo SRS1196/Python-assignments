{
 "cells": [
  {
   "cell_type": "markdown",
   "id": "637b47a5",
   "metadata": {},
   "source": [
    "## Programming Assignment_1\n",
    "-------------"
   ]
  },
  {
   "cell_type": "markdown",
   "id": "0c647dbe",
   "metadata": {},
   "source": [
    "### 1. Write a Python program to print \"Hello Python\"?"
   ]
  },
  {
   "cell_type": "code",
   "execution_count": 1,
   "id": "46df555c",
   "metadata": {},
   "outputs": [
    {
     "name": "stdout",
     "output_type": "stream",
     "text": [
      "Hello Python\n"
     ]
    }
   ],
   "source": [
    "print(\"Hello Python\")"
   ]
  },
  {
   "cell_type": "markdown",
   "id": "fc18a6cd",
   "metadata": {},
   "source": [
    "### 2. Write a Python program to do arithmetical operations addition and division.?\n"
   ]
  },
  {
   "cell_type": "code",
   "execution_count": 2,
   "id": "51c39519",
   "metadata": {},
   "outputs": [
    {
     "name": "stdout",
     "output_type": "stream",
     "text": [
      "The sum of 10 and 5 is: 15\n",
      "The division of the sum by 2 is: 7.5\n"
     ]
    }
   ],
   "source": [
    "# Assign two numbers to variables\n",
    "num1 = 10\n",
    "num2 = 5\n",
    "\n",
    "# Add the two numbers\n",
    "sum = num1 + num2\n",
    "\n",
    "# Divide the sum by another number\n",
    "div = sum / 2\n",
    "\n",
    "# Print the results\n",
    "print(\"The sum of\", num1, \"and\", num2, \"is:\", sum)\n",
    "print(\"The division of the sum by 2 is:\", div)\n"
   ]
  },
  {
   "cell_type": "markdown",
   "id": "af6e2429",
   "metadata": {},
   "source": [
    "### 3. Write a Python program to find the area of a triangle?\n"
   ]
  },
  {
   "cell_type": "code",
   "execution_count": 3,
   "id": "762c1abf",
   "metadata": {},
   "outputs": [
    {
     "name": "stdout",
     "output_type": "stream",
     "text": [
      "The area of the triangle is: 25.0\n"
     ]
    }
   ],
   "source": [
    "# Assign values to base and height variables\n",
    "base = 10\n",
    "height = 5\n",
    "\n",
    "# Calculate area using formula: (base * height) / 2\n",
    "area = (base * height) / 2\n",
    "\n",
    "# Print the result\n",
    "print(\"The area of the triangle is:\", area)\n"
   ]
  },
  {
   "cell_type": "markdown",
   "id": "b8140061",
   "metadata": {},
   "source": [
    "### 4. Write a Python program to swap two variables?\n"
   ]
  },
  {
   "cell_type": "code",
   "execution_count": 5,
   "id": "112ae9ec",
   "metadata": {},
   "outputs": [
    {
     "name": "stdout",
     "output_type": "stream",
     "text": [
      "before swapping, a = 10 and b = 20\n",
      "After swapping, a = 20 and b = 10\n"
     ]
    }
   ],
   "source": [
    "# initial values\n",
    "a = 10\n",
    "b = 20 \n",
    "\n",
    "print(\"before swapping, a =\", a, \"and b =\", b)\n",
    "\n",
    "# swap the value \n",
    "temp = a\n",
    "a = b \n",
    "b = temp\n",
    "\n",
    "print(\"After swapping, a =\", a, \"and b =\", b)"
   ]
  },
  {
   "cell_type": "markdown",
   "id": "3f8054c1",
   "metadata": {},
   "source": [
    "### 5. Write a Python program to generate a random number?\n"
   ]
  },
  {
   "cell_type": "code",
   "execution_count": 6,
   "id": "2237346a",
   "metadata": {},
   "outputs": [
    {
     "name": "stdout",
     "output_type": "stream",
     "text": [
      "The random number is: 5\n"
     ]
    }
   ],
   "source": [
    "import random\n",
    "\n",
    "# Generate a random number between 1 and 10\n",
    "random_number = random.randint(1, 10)\n",
    "\n",
    "# Print the result\n",
    "print(\"The random number is:\", random_number)\n"
   ]
  },
  {
   "cell_type": "code",
   "execution_count": null,
   "id": "68cd99bf",
   "metadata": {},
   "outputs": [],
   "source": []
  }
 ],
 "metadata": {
  "kernelspec": {
   "display_name": "Python 3 (ipykernel)",
   "language": "python",
   "name": "python3"
  },
  "language_info": {
   "codemirror_mode": {
    "name": "ipython",
    "version": 3
   },
   "file_extension": ".py",
   "mimetype": "text/x-python",
   "name": "python",
   "nbconvert_exporter": "python",
   "pygments_lexer": "ipython3",
   "version": "3.9.13"
  }
 },
 "nbformat": 4,
 "nbformat_minor": 5
}
